{
 "cells": [
  {
   "cell_type": "code",
   "execution_count": null,
   "id": "8acf5e95",
   "metadata": {},
   "outputs": [],
   "source": [
    "from sklearn.datasets import fetch_california_housing\n",
    "from sklearn.neighbors import KNeighborsRegressor\n",
    "from sklearn.preprocessing import StandardScaler #veriyi scale ediyor (z-score) / z = (x - mü)/sigma(std)\n",
    "from sklearn.pipeline import Pipeline\n",
    "from sklearn.model_selection import GridSearchCV\n",
    "import matplotlib.pylab as plt\n",
    "import pandas as pd"
   ]
  },
  {
   "cell_type": "code",
   "execution_count": 17,
   "id": "bff0bb99",
   "metadata": {},
   "outputs": [],
   "source": [
    "X, y = fetch_california_housing(return_X_y=True) # oto feature selection\n",
    "\n",
    "pipe = Pipeline([\n",
    "    (\"scale\", StandardScaler()),\n",
    "    (\"model\", KNeighborsRegressor(n_neighbors=10))\n",
    "])"
   ]
  },
  {
   "cell_type": "code",
   "execution_count": 13,
   "id": "bfe8d2e4",
   "metadata": {},
   "outputs": [
    {
     "data": {
      "text/plain": [
       "{'memory': None,\n",
       " 'steps': [('scale', StandardScaler()),\n",
       "  ('model', KNeighborsRegressor(n_neighbors=1))],\n",
       " 'transform_input': None,\n",
       " 'verbose': False,\n",
       " 'scale': StandardScaler(),\n",
       " 'model': KNeighborsRegressor(n_neighbors=1),\n",
       " 'scale__copy': True,\n",
       " 'scale__with_mean': True,\n",
       " 'scale__with_std': True,\n",
       " 'model__algorithm': 'auto',\n",
       " 'model__leaf_size': 30,\n",
       " 'model__metric': 'minkowski',\n",
       " 'model__metric_params': None,\n",
       " 'model__n_jobs': None,\n",
       " 'model__n_neighbors': 1,\n",
       " 'model__p': 2,\n",
       " 'model__weights': 'uniform'}"
      ]
     },
     "execution_count": 13,
     "metadata": {},
     "output_type": "execute_result"
    }
   ],
   "source": [
    "pipe.get_params()"
   ]
  },
  {
   "cell_type": "code",
   "execution_count": 14,
   "id": "7091592a",
   "metadata": {},
   "outputs": [],
   "source": [
    "mod = GridSearchCV(estimator=pipe,\n",
    "                   param_grid={'model__n_neighbors': [1,2,3,4,5,6,7,8,9,10]},\n",
    "                   cv=3\n",
    "                   )"
   ]
  },
  {
   "cell_type": "code",
   "execution_count": 15,
   "id": "675c2c54",
   "metadata": {},
   "outputs": [
    {
     "data": {
      "application/vnd.microsoft.datawrangler.viewer.v0+json": {
       "columns": [
        {
         "name": "index",
         "rawType": "int64",
         "type": "integer"
        },
        {
         "name": "mean_fit_time",
         "rawType": "float64",
         "type": "float"
        },
        {
         "name": "std_fit_time",
         "rawType": "float64",
         "type": "float"
        },
        {
         "name": "mean_score_time",
         "rawType": "float64",
         "type": "float"
        },
        {
         "name": "std_score_time",
         "rawType": "float64",
         "type": "float"
        },
        {
         "name": "param_model__n_neighbors",
         "rawType": "int64",
         "type": "integer"
        },
        {
         "name": "params",
         "rawType": "object",
         "type": "unknown"
        },
        {
         "name": "split0_test_score",
         "rawType": "float64",
         "type": "float"
        },
        {
         "name": "split1_test_score",
         "rawType": "float64",
         "type": "float"
        },
        {
         "name": "split2_test_score",
         "rawType": "float64",
         "type": "float"
        },
        {
         "name": "mean_test_score",
         "rawType": "float64",
         "type": "float"
        },
        {
         "name": "std_test_score",
         "rawType": "float64",
         "type": "float"
        },
        {
         "name": "rank_test_score",
         "rawType": "int32",
         "type": "integer"
        }
       ],
       "ref": "5cbe4086-f578-48e2-a3f9-53d5d87b49e6",
       "rows": [
        [
         "0",
         "0.005351463953653972",
         "0.003181662605388635",
         "0.08335312207539876",
         "0.006797989522479773",
         "1",
         "{'model__n_neighbors': 1}",
         "0.3240683903964837",
         "0.33483014993682236",
         "0.3233705496114747",
         "0.3274230299815936",
         "0.00524536715992736",
         "10"
        ],
        [
         "1",
         "0.003363370895385742",
         "0.0005411434062378283",
         "0.08659990628560384",
         "0.00627994344655436",
         "2",
         "{'model__n_neighbors': 2}",
         "0.46878790190020914",
         "0.5034566552409019",
         "0.42438800539929444",
         "0.4655441875134685",
         "0.03236102706663004",
         "9"
        ],
        [
         "2",
         "0.002967993418375651",
         "3.502797282423167e-05",
         "0.08891598383585612",
         "0.008255297925365179",
         "3",
         "{'model__n_neighbors': 3}",
         "0.5185469912181917",
         "0.5433403894067568",
         "0.47359500571152535",
         "0.511827462112158",
         "0.02886715192341045",
         "8"
        ],
        [
         "3",
         "0.003253459930419922",
         "0.00015263271170206646",
         "0.09908302625020345",
         "0.004697316630797181",
         "4",
         "{'model__n_neighbors': 4}",
         "0.5403226145473712",
         "0.5649735600256995",
         "0.49982716146715156",
         "0.5350411120134074",
         "0.026856830453964527",
         "7"
        ],
        [
         "4",
         "0.003073612848917643",
         "0.00010293726562754792",
         "0.10074241956075032",
         "0.009260815240009837",
         "5",
         "{'model__n_neighbors': 5}",
         "0.5511487528748364",
         "0.5793129601432663",
         "0.5117812078734396",
         "0.5474143069638474",
         "0.027695895674929725",
         "6"
        ],
        [
         "5",
         "0.0030403931935628257",
         "0.00010342317170608734",
         "0.10970354080200195",
         "0.00893154067948899",
         "6",
         "{'model__n_neighbors': 6}",
         "0.5584348399854322",
         "0.5861851204166466",
         "0.5211344362879702",
         "0.5552514655633497",
         "0.026652057843445983",
         "5"
        ],
        [
         "6",
         "0.003212451934814453",
         "0.00026388725816678556",
         "0.11060190200805664",
         "0.010582982999485818",
         "7",
         "{'model__n_neighbors': 7}",
         "0.5642065511999557",
         "0.5905086688295187",
         "0.5252229146073818",
         "0.5599793782122854",
         "0.026819882794785952",
         "4"
        ],
        [
         "7",
         "0.002966006596883138",
         "9.384960736147362e-05",
         "0.11141594250996907",
         "0.0060614876147996434",
         "8",
         "{'model__n_neighbors': 8}",
         "0.5686371834648227",
         "0.5939419254350947",
         "0.5293372948421218",
         "0.5639721345806797",
         "0.026580212995537447",
         "3"
        ],
        [
         "8",
         "0.0029856363932291665",
         "2.462709921007965e-05",
         "0.11290248235066731",
         "0.005378972591700537",
         "9",
         "{'model__n_neighbors': 9}",
         "0.5719724249098515",
         "0.5948630072908179",
         "0.5299278406352358",
         "0.5655877576119684",
         "0.026891348664896522",
         "2"
        ],
        [
         "9",
         "0.002901474634806315",
         "5.262027613186185e-05",
         "0.11852327982584636",
         "0.01272739627325407",
         "10",
         "{'model__n_neighbors': 10}",
         "0.5737602768000198",
         "0.5958314348838253",
         "0.5329730464478579",
         "0.567521586043901",
         "0.0260382436165806",
         "1"
        ]
       ],
       "shape": {
        "columns": 12,
        "rows": 10
       }
      },
      "text/html": [
       "<div>\n",
       "<style scoped>\n",
       "    .dataframe tbody tr th:only-of-type {\n",
       "        vertical-align: middle;\n",
       "    }\n",
       "\n",
       "    .dataframe tbody tr th {\n",
       "        vertical-align: top;\n",
       "    }\n",
       "\n",
       "    .dataframe thead th {\n",
       "        text-align: right;\n",
       "    }\n",
       "</style>\n",
       "<table border=\"1\" class=\"dataframe\">\n",
       "  <thead>\n",
       "    <tr style=\"text-align: right;\">\n",
       "      <th></th>\n",
       "      <th>mean_fit_time</th>\n",
       "      <th>std_fit_time</th>\n",
       "      <th>mean_score_time</th>\n",
       "      <th>std_score_time</th>\n",
       "      <th>param_model__n_neighbors</th>\n",
       "      <th>params</th>\n",
       "      <th>split0_test_score</th>\n",
       "      <th>split1_test_score</th>\n",
       "      <th>split2_test_score</th>\n",
       "      <th>mean_test_score</th>\n",
       "      <th>std_test_score</th>\n",
       "      <th>rank_test_score</th>\n",
       "    </tr>\n",
       "  </thead>\n",
       "  <tbody>\n",
       "    <tr>\n",
       "      <th>0</th>\n",
       "      <td>0.005351</td>\n",
       "      <td>0.003182</td>\n",
       "      <td>0.083353</td>\n",
       "      <td>0.006798</td>\n",
       "      <td>1</td>\n",
       "      <td>{'model__n_neighbors': 1}</td>\n",
       "      <td>0.324068</td>\n",
       "      <td>0.334830</td>\n",
       "      <td>0.323371</td>\n",
       "      <td>0.327423</td>\n",
       "      <td>0.005245</td>\n",
       "      <td>10</td>\n",
       "    </tr>\n",
       "    <tr>\n",
       "      <th>1</th>\n",
       "      <td>0.003363</td>\n",
       "      <td>0.000541</td>\n",
       "      <td>0.086600</td>\n",
       "      <td>0.006280</td>\n",
       "      <td>2</td>\n",
       "      <td>{'model__n_neighbors': 2}</td>\n",
       "      <td>0.468788</td>\n",
       "      <td>0.503457</td>\n",
       "      <td>0.424388</td>\n",
       "      <td>0.465544</td>\n",
       "      <td>0.032361</td>\n",
       "      <td>9</td>\n",
       "    </tr>\n",
       "    <tr>\n",
       "      <th>2</th>\n",
       "      <td>0.002968</td>\n",
       "      <td>0.000035</td>\n",
       "      <td>0.088916</td>\n",
       "      <td>0.008255</td>\n",
       "      <td>3</td>\n",
       "      <td>{'model__n_neighbors': 3}</td>\n",
       "      <td>0.518547</td>\n",
       "      <td>0.543340</td>\n",
       "      <td>0.473595</td>\n",
       "      <td>0.511827</td>\n",
       "      <td>0.028867</td>\n",
       "      <td>8</td>\n",
       "    </tr>\n",
       "    <tr>\n",
       "      <th>3</th>\n",
       "      <td>0.003253</td>\n",
       "      <td>0.000153</td>\n",
       "      <td>0.099083</td>\n",
       "      <td>0.004697</td>\n",
       "      <td>4</td>\n",
       "      <td>{'model__n_neighbors': 4}</td>\n",
       "      <td>0.540323</td>\n",
       "      <td>0.564974</td>\n",
       "      <td>0.499827</td>\n",
       "      <td>0.535041</td>\n",
       "      <td>0.026857</td>\n",
       "      <td>7</td>\n",
       "    </tr>\n",
       "    <tr>\n",
       "      <th>4</th>\n",
       "      <td>0.003074</td>\n",
       "      <td>0.000103</td>\n",
       "      <td>0.100742</td>\n",
       "      <td>0.009261</td>\n",
       "      <td>5</td>\n",
       "      <td>{'model__n_neighbors': 5}</td>\n",
       "      <td>0.551149</td>\n",
       "      <td>0.579313</td>\n",
       "      <td>0.511781</td>\n",
       "      <td>0.547414</td>\n",
       "      <td>0.027696</td>\n",
       "      <td>6</td>\n",
       "    </tr>\n",
       "    <tr>\n",
       "      <th>5</th>\n",
       "      <td>0.003040</td>\n",
       "      <td>0.000103</td>\n",
       "      <td>0.109704</td>\n",
       "      <td>0.008932</td>\n",
       "      <td>6</td>\n",
       "      <td>{'model__n_neighbors': 6}</td>\n",
       "      <td>0.558435</td>\n",
       "      <td>0.586185</td>\n",
       "      <td>0.521134</td>\n",
       "      <td>0.555251</td>\n",
       "      <td>0.026652</td>\n",
       "      <td>5</td>\n",
       "    </tr>\n",
       "    <tr>\n",
       "      <th>6</th>\n",
       "      <td>0.003212</td>\n",
       "      <td>0.000264</td>\n",
       "      <td>0.110602</td>\n",
       "      <td>0.010583</td>\n",
       "      <td>7</td>\n",
       "      <td>{'model__n_neighbors': 7}</td>\n",
       "      <td>0.564207</td>\n",
       "      <td>0.590509</td>\n",
       "      <td>0.525223</td>\n",
       "      <td>0.559979</td>\n",
       "      <td>0.026820</td>\n",
       "      <td>4</td>\n",
       "    </tr>\n",
       "    <tr>\n",
       "      <th>7</th>\n",
       "      <td>0.002966</td>\n",
       "      <td>0.000094</td>\n",
       "      <td>0.111416</td>\n",
       "      <td>0.006061</td>\n",
       "      <td>8</td>\n",
       "      <td>{'model__n_neighbors': 8}</td>\n",
       "      <td>0.568637</td>\n",
       "      <td>0.593942</td>\n",
       "      <td>0.529337</td>\n",
       "      <td>0.563972</td>\n",
       "      <td>0.026580</td>\n",
       "      <td>3</td>\n",
       "    </tr>\n",
       "    <tr>\n",
       "      <th>8</th>\n",
       "      <td>0.002986</td>\n",
       "      <td>0.000025</td>\n",
       "      <td>0.112902</td>\n",
       "      <td>0.005379</td>\n",
       "      <td>9</td>\n",
       "      <td>{'model__n_neighbors': 9}</td>\n",
       "      <td>0.571972</td>\n",
       "      <td>0.594863</td>\n",
       "      <td>0.529928</td>\n",
       "      <td>0.565588</td>\n",
       "      <td>0.026891</td>\n",
       "      <td>2</td>\n",
       "    </tr>\n",
       "    <tr>\n",
       "      <th>9</th>\n",
       "      <td>0.002901</td>\n",
       "      <td>0.000053</td>\n",
       "      <td>0.118523</td>\n",
       "      <td>0.012727</td>\n",
       "      <td>10</td>\n",
       "      <td>{'model__n_neighbors': 10}</td>\n",
       "      <td>0.573760</td>\n",
       "      <td>0.595831</td>\n",
       "      <td>0.532973</td>\n",
       "      <td>0.567522</td>\n",
       "      <td>0.026038</td>\n",
       "      <td>1</td>\n",
       "    </tr>\n",
       "  </tbody>\n",
       "</table>\n",
       "</div>"
      ],
      "text/plain": [
       "   mean_fit_time  std_fit_time  ...  std_test_score  rank_test_score\n",
       "0       0.005351      0.003182  ...        0.005245               10\n",
       "1       0.003363      0.000541  ...        0.032361                9\n",
       "2       0.002968      0.000035  ...        0.028867                8\n",
       "3       0.003253      0.000153  ...        0.026857                7\n",
       "4       0.003074      0.000103  ...        0.027696                6\n",
       "5       0.003040      0.000103  ...        0.026652                5\n",
       "6       0.003212      0.000264  ...        0.026820                4\n",
       "7       0.002966      0.000094  ...        0.026580                3\n",
       "8       0.002986      0.000025  ...        0.026891                2\n",
       "9       0.002901      0.000053  ...        0.026038                1\n",
       "\n",
       "[10 rows x 12 columns]"
      ]
     },
     "execution_count": 15,
     "metadata": {},
     "output_type": "execute_result"
    }
   ],
   "source": [
    "mod.fit(X,y)\n",
    "pd.DataFrame(mod.cv_results_)"
   ]
  },
  {
   "cell_type": "code",
   "execution_count": 18,
   "id": "665b8d37",
   "metadata": {},
   "outputs": [],
   "source": [
    "pred = mod.predict(X)"
   ]
  },
  {
   "cell_type": "code",
   "execution_count": 19,
   "id": "ba5ff455",
   "metadata": {},
   "outputs": [
    {
     "data": {
      "text/plain": [
       "<matplotlib.collections.PathCollection at 0x17979bc50>"
      ]
     },
     "execution_count": 19,
     "metadata": {},
     "output_type": "execute_result"
    },
    {
     "data": {
      "image/png": "[encoded data removed]",
      "text/plain": [
       "<Figure size 640x480 with 1 Axes>"
      ]
     },
     "metadata": {},
     "output_type": "display_data"
    }
   ],
   "source": [
    "plt.scatter(pred, y)"
   ]
  }
 ],
 "metadata": {
  "kernelspec": {
   "display_name": "base",
   "language": "python",
   "name": "python3"
  },
  "language_info": {
   "codemirror_mode": {
    "name": "ipython",
    "version": 3
   },
   "file_extension": ".py",
   "mimetype": "text/x-python",
   "name": "python",
   "nbconvert_exporter": "python",
   "pygments_lexer": "ipython3",
   "version": "3.12.2"
  }
 },
 "nbformat": 4,
 "nbformat_minor": 5
}
